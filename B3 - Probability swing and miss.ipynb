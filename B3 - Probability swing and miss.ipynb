{
 "cells": [
  {
   "cell_type": "code",
   "execution_count": 1,
   "metadata": {},
   "outputs": [],
   "source": [
    "import time\n",
    "import json\n",
    "import pickle\n",
    "import itertools\n",
    "import numpy as np\n",
    "import pandas as pd\n",
    "import xgboost as xgb\n",
    "from sklearn.metrics import roc_auc_score, accuracy_score\n",
    "from sklearn.compose import ColumnTransformer\n",
    "from sklearn.preprocessing import OneHotEncoder\n",
    "from sklearn.model_selection import train_test_split\n",
    "from hyperopt import STATUS_OK, Trials, fmin, hp, tpe"
   ]
  },
  {
   "cell_type": "code",
   "execution_count": 2,
   "id": "loaded-hughes",
   "metadata": {},
   "outputs": [],
   "source": [
    "path = 'data/nasty_data.fea'\n",
    "nasty = pd.read_feather(path).sample(frac=.1)"
   ]
  },
  {
   "cell_type": "code",
   "execution_count": 3,
   "id": "c4dfe8cf",
   "metadata": {},
   "outputs": [],
   "source": [
    "with open('data/strikezone_model.pkl', 'rb') as f:\n",
    "    sz_model = pickle.load(f)"
   ]
  },
  {
   "cell_type": "markdown",
   "metadata": {},
   "source": [
    "### Prepare data"
   ]
  },
  {
   "cell_type": "code",
   "execution_count": 4,
   "id": "75aaee02",
   "metadata": {},
   "outputs": [],
   "source": [
    "swing_map = {\n",
    "    'ball': 0,\n",
    "    'foul': 1,\n",
    "    'called_strike': 0,\n",
    "    'swinging_strike': 1,\n",
    "    'hit_into_play': 1,\n",
    "    'missed_bunt': 1,\n",
    "    'blocked_ball': 0,\n",
    "    'foul_tip': 1,\n",
    "    'swinging_strike_blocked': 1,\n",
    "    'foul_bunt': 1,\n",
    "    'intent_ball': 0,\n",
    "    'hit_by_pitch': 0,\n",
    "    'bunt_foul_tip': 1,\n",
    "    'pitchout': 0,\n",
    "    'swinging_pitchout': 1}\n",
    "\n",
    "nasty['swing'] = nasty.description.map(swing_map)\n",
    "\n",
    "nasty['swinging_strike'] = nasty.description.map(\n",
    "    {'swinging_strike': 1, 'swinging_strike_blocked': 1})\n",
    "\n",
    "nasty.swinging_strike = nasty.swinging_strike.fillna(0)\n"
   ]
  },
  {
   "cell_type": "code",
   "execution_count": 5,
   "metadata": {},
   "outputs": [],
   "source": [
    "# subset to pitches that are swings\n",
    "nasty = nasty.loc[nasty.swing == 1].reset_index(drop=True)"
   ]
  },
  {
   "cell_type": "code",
   "execution_count": 6,
   "id": "f46f20d2",
   "metadata": {},
   "outputs": [],
   "source": [
    "# create probabalistic strikezone\n",
    "sz_model_cols = ['effective_speed', 'pfx_x', 'pfx_z', 'vx0', 'vz0', 'ax',\n",
    "                 'az', 'release_pos_x', 'release_pos_z']\n",
    "\n",
    "nasty = nasty.dropna(subset=sz_model_cols).reset_index(drop=True)\n",
    "\n",
    "X_sz = np.array(nasty[sz_model_cols])\n",
    "nasty['strikezone_prob'] = sz_model.predict(X_sz)"
   ]
  },
  {
   "cell_type": "code",
   "execution_count": 7,
   "metadata": {},
   "outputs": [],
   "source": [
    "# define label and features\n",
    "label_col = 'swinging_strike'\n",
    "x_cols = ['release_spin_rate', 'effective_speed', 'pfx_x', 'strikezone_prob',\n",
    "          'pfx_z', 'vx0', 'vy0', 'vz0', 'ax', 'ay', 'az', 'spin_axis']\n",
    "\n",
    "nasty = nasty.dropna(subset=[label_col] + x_cols )\\\n",
    "    .reset_index(drop=True)"
   ]
  },
  {
   "cell_type": "code",
   "execution_count": 8,
   "id": "vertical-broadcasting",
   "metadata": {},
   "outputs": [],
   "source": [
    "# prepare X and y\n",
    "# ohe = OneHotEncoder(sparse=False)\n",
    "# column_transformer = ColumnTransformer(\n",
    "#     transformers=[('ohe', ohe, ['pitch_type'])],\n",
    "#     remainder='passthrough')\n",
    "\n",
    "y = np.array(nasty[label_col])\n",
    "X = np.array(nasty[x_cols])"
   ]
  },
  {
   "cell_type": "code",
   "execution_count": 9,
   "id": "intelligent-fiction",
   "metadata": {},
   "outputs": [
    {
     "name": "stdout",
     "output_type": "stream",
     "text": [
      "X_train: 134162, y_train: 134162\n",
      "X_test: 44721, y_test: 44721\n"
     ]
    }
   ],
   "source": [
    "X_train, X_test, y_train, y_test = train_test_split(X, y)\n",
    "\n",
    "print(f'X_train: {len(X_train)}, y_train: {len(y_train)}')\n",
    "print(f'X_test: {len(X_test)}, y_test: {len(y_test)}')"
   ]
  },
  {
   "cell_type": "markdown",
   "metadata": {},
   "source": [
    "### Parameter grid"
   ]
  },
  {
   "cell_type": "code",
   "execution_count": 10,
   "id": "25f90c0c",
   "metadata": {},
   "outputs": [],
   "source": [
    "param_space = {'max_depth': hp.quniform(\"max_depth\", 3, 10, 1),\n",
    "               'gamma': hp.uniform('gamma', 0, 14),\n",
    "               'learning_rate': hp.uniform('learning_rate', 0, 1),\n",
    "               'reg_alpha': hp.uniform('reg_alpha', 0, 1),\n",
    "               'reg_lambda': hp.quniform('reg_lambda', 0, 10, 1),\n",
    "               'colsample_bytree': hp.uniform('colsample_bytree', 0.3, 1),\n",
    "               'min_child_weight': hp.quniform('min_child_weight', 0, 10, 1),\n",
    "               'n_estimators': hp.quniform('n_estimators', 100, 1000, 10)\n",
    "               }\n",
    "\n",
    "evaluation = [(X_train, y_train), (X_test, y_test)]\n",
    "\n",
    "\n",
    "def objective(space):\n",
    "    model = xgb.XGBRegressor(objective='binary:logistic',\n",
    "                             eval_metric='auc',\n",
    "                             n_estimators=int(space['n_estimators']),\n",
    "                             learning_rate=space['learning_rate'],\n",
    "                             max_depth=int(space['max_depth']),\n",
    "                             gamma=space['gamma'],\n",
    "                             reg_lambda=space['reg_lambda'],\n",
    "                             reg_alpha=space['reg_alpha'],\n",
    "                             min_child_weight=int(space['min_child_weight']),\n",
    "                             colsample_bytree=space['colsample_bytree']\n",
    "                             )\n",
    "\n",
    "    model.fit(X_train, y_train, eval_set=evaluation, eval_metric='auc',\n",
    "              early_stopping_rounds=10, verbose=False)\n",
    "\n",
    "    pred = model.predict(X_test, iteration_range=(0, model.best_iteration + 1))\n",
    "    score = roc_auc_score(y_test, pred)\n",
    "\n",
    "    return {'loss': -score, 'status': STATUS_OK}\n"
   ]
  },
  {
   "cell_type": "code",
   "execution_count": 11,
   "id": "4732080f",
   "metadata": {},
   "outputs": [
    {
     "name": "stdout",
     "output_type": "stream",
     "text": [
      "100%|██████████| 100/100 [35:38<00:00, 21.39s/trial, best loss: -0.7438111849838251]\n"
     ]
    }
   ],
   "source": [
    "trials = Trials()\n",
    "best_hyperparams = fmin(fn=objective,\n",
    "                        space=param_space,\n",
    "                        algo=tpe.suggest,\n",
    "                        max_evals=100,\n",
    "                        trials=trials)"
   ]
  },
  {
   "cell_type": "code",
   "execution_count": 12,
   "metadata": {},
   "outputs": [
    {
     "data": {
      "text/plain": [
       "XGBRegressor(base_score=0.5, booster='gbtree', colsample_bylevel=1,\n",
       "             colsample_bynode=1, colsample_bytree=0.7922127231363536,\n",
       "             enable_categorical=False, eval_metric='auc',\n",
       "             gamma=8.334691455051843, gpu_id=-1, importance_type=None,\n",
       "             interaction_constraints='', learning_rate=0.300000012,\n",
       "             max_delta_step=0, max_depth=10, min_child_weight=10, missing=nan,\n",
       "             monotone_constraints='()', n_estimators=370, n_jobs=8,\n",
       "             num_parallel_tree=1, objective='binary:logistic', predictor='auto',\n",
       "             random_state=0, reg_alpha=0.7812470300115504, reg_lambda=9.0,\n",
       "             scale_pos_weight=1, subsample=1, tree_method='exact',\n",
       "             use_label_encoder=False, validate_parameters=1, ...)"
      ]
     },
     "execution_count": 12,
     "metadata": {},
     "output_type": "execute_result"
    }
   ],
   "source": [
    "model = xgb.XGBRegressor(objective='binary:logistic',\n",
    "                         use_label_encoder=False,\n",
    "                         eval_metric='auc',\n",
    "                         n_estimators=int(best_hyperparams['n_estimators']),\n",
    "                         max_depth=int(best_hyperparams['max_depth']),\n",
    "                         gamma=best_hyperparams['gamma'],\n",
    "                         reg_lambda=best_hyperparams['reg_lambda'],\n",
    "                         reg_alpha=best_hyperparams['reg_alpha'],\n",
    "                         min_child_weight=int(best_hyperparams['min_child_weight']),\n",
    "                         colsample_bytree=best_hyperparams['colsample_bytree'])\n",
    "\n",
    "model.fit(X_train, y_train, eval_set=evaluation, eval_metric='auc', verbose=False)\n"
   ]
  },
  {
   "cell_type": "code",
   "execution_count": 13,
   "id": "8853000b",
   "metadata": {},
   "outputs": [
    {
     "data": {
      "text/plain": [
       "<AxesSubplot:title={'center':'Feature importance'}, xlabel='F score', ylabel='Features'>"
      ]
     },
     "execution_count": 13,
     "metadata": {},
     "output_type": "execute_result"
    },
    {
     "data": {
      "image/png": "[encoded data removed]",
      "text/plain": [
       "<Figure size 432x288 with 1 Axes>"
      ]
     },
     "metadata": {
      "needs_background": "light"
     },
     "output_type": "display_data"
    }
   ],
   "source": [
    "xgb.plot_importance(model)"
   ]
  },
  {
   "cell_type": "code",
   "execution_count": null,
   "id": "14f77574",
   "metadata": {},
   "outputs": [],
   "source": [
    "with open('data/model_swingmiss.pkl', 'wb') as f:\n",
    "    pickle.dump(model, f)\n",
    "with open('data/best_hp_swingmiss.pkl', 'wb') as f:\n",
    "    pickle.dump(best_hyperparams, f)"
   ]
  },
  {
   "cell_type": "code",
   "execution_count": 14,
   "metadata": {},
   "outputs": [
    {
     "name": "stdout",
     "output_type": "stream",
     "text": [
      "Percent swing and miss: 22.72%\n",
      "Swing and miss classification accuracy: 25.47%\n",
      "Total classification accuracy: 80.25999999999999%\n",
      "ROC AUC score: 0.74\n"
     ]
    }
   ],
   "source": [
    "preds = model.predict(X_test)\n",
    "accuracy = accuracy_score(y_test, preds.round(0))\n",
    "auc = roc_auc_score(y_test, preds)\n",
    "\n",
    "print(f'Percent swing and miss: {round(sum(y_test == 1) / len(y_test)*100, 2)}%')\n",
    "print(f'Swing and miss classification accuracy: {(np.take(preds.round(0), np.nonzero(np.array(y_test))).sum()/np.take(np.array(y_test), np.nonzero(np.array(y_test))).sum() * 100).round(2)}%')\n",
    "print(f'Total classification accuracy: {accuracy.round(4)*100}%')\n",
    "print(f'ROC AUC score: {auc.round(3)}')"
   ]
  }
 ],
 "metadata": {
  "interpreter": {
   "hash": "98172a2f8fb1882ed8853131b5ccc9fd551a4200cef2cab8ff9263c241b56fed"
  },
  "kernelspec": {
   "display_name": "Python 3.9.7 64-bit ('riljam': conda)",
   "language": "python",
   "name": "python3"
  },
  "language_info": {
   "codemirror_mode": {
    "name": "ipython",
    "version": 3
   },
   "file_extension": ".py",
   "mimetype": "text/x-python",
   "name": "python",
   "nbconvert_exporter": "python",
   "pygments_lexer": "ipython3",
   "version": "3.9.7"
  },
  "orig_nbformat": 4
 },
 "nbformat": 4,
 "nbformat_minor": 2
}
