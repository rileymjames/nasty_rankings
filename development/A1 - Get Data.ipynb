{
 "cells": [
  {
   "cell_type": "code",
   "execution_count": null,
   "id": "adverse-stomach",
   "metadata": {},
   "outputs": [],
   "source": [
    "from pybaseball import statcast"
   ]
  },
  {
   "cell_type": "code",
   "execution_count": null,
   "id": "closing-librarian",
   "metadata": {},
   "outputs": [],
   "source": [
    "all_data = statcast('2010-01-01', '2021-11-9')"
   ]
  },
  {
   "cell_type": "code",
   "execution_count": null,
   "id": "dutch-syndrome",
   "metadata": {},
   "outputs": [],
   "source": [
    "nasty_cols = ['pitch_type', 'game_date', 'batter', 'pitcher', 'release_speed',\n",
    "              'release_pos_x', 'release_pos_z', 'events', 'description',\n",
    "              'spin_axis', 'zone', 'game_type', 'stand', 'p_throws', 'vx0',\n",
    "              'vy0', 'vz0', 'ax', 'ay', 'az', 'plate_x', 'plate_z', 'sz_top',\n",
    "              'sz_bot', 'pfx_x', 'pfx_z', 'hit_distance_sc', 'launch_speed',\n",
    "              'launch_angle', 'effective_speed', 'release_spin_rate',\n",
    "              'release_extension', 'release_pos_y',\n",
    "              'estimated_ba_using_speedangle',\n",
    "              'estimated_woba_using_speedangle', 'launch_speed_angle']\n",
    "\n",
    "nasty = all_data[nasty_cols].copy()"
   ]
  },
  {
   "cell_type": "code",
   "execution_count": null,
   "metadata": {},
   "outputs": [],
   "source": [
    "pitcher_ids = all_data[['player_name', 'pitcher']].drop_duplicates()\\\n",
    "    .sort_values(by='player_name').reset_index(drop=True)\n",
    "\n",
    "pitcher_ids.to_feather('../data/pitcher_ids.fea')"
   ]
  },
  {
   "cell_type": "code",
   "execution_count": null,
   "id": "fleet-blank",
   "metadata": {},
   "outputs": [],
   "source": [
    "nasty.reset_index(drop=True).to_feather('../data/nasty_data.fea')\n",
    "nasty.loc[nasty.game_date >= '2021'].to_feather('data/nasty_data_2021.fea')"
   ]
  }
 ],
 "metadata": {
  "interpreter": {
   "hash": "98172a2f8fb1882ed8853131b5ccc9fd551a4200cef2cab8ff9263c241b56fed"
  },
  "kernelspec": {
   "display_name": "Python 3.9.7 64-bit ('riljam': conda)",
   "name": "python3"
  },
  "language_info": {
   "codemirror_mode": {
    "name": "ipython",
    "version": 3
   },
   "file_extension": ".py",
   "mimetype": "text/x-python",
   "name": "python",
   "nbconvert_exporter": "python",
   "pygments_lexer": "ipython3",
   "version": "3.9.7"
  }
 },
 "nbformat": 4,
 "nbformat_minor": 5
}
