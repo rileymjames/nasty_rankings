{
 "cells": [
  {
   "cell_type": "code",
   "execution_count": null,
   "id": "constitutional-cycling",
   "metadata": {},
   "outputs": [],
   "source": [
    "import pickle\n",
    "import numpy as np\n",
    "import pandas as pd\n",
    "import xgboost as xgb\n",
    "from sklearn.metrics import roc_auc_score\n",
    "from sklearn.model_selection import train_test_split\n",
    "from hyperopt import STATUS_OK, Trials, fmin, hp, tpe\n"
   ]
  },
  {
   "cell_type": "code",
   "execution_count": null,
   "id": "loaded-hughes",
   "metadata": {},
   "outputs": [],
   "source": [
    "path = '../data/nasty_data.fea'\n",
    "nasty = pd.read_feather(path).sample(frac=.1)"
   ]
  },
  {
   "cell_type": "code",
   "execution_count": null,
   "id": "c4dfe8cf",
   "metadata": {},
   "outputs": [],
   "source": [
    "with open('../models/sz_model.pkl', 'rb') as f:\n",
    "    sz_model = pickle.load(f)"
   ]
  },
  {
   "cell_type": "markdown",
   "metadata": {},
   "source": [
    "### Prepare data"
   ]
  },
  {
   "cell_type": "code",
   "execution_count": null,
   "id": "75aaee02",
   "metadata": {},
   "outputs": [],
   "source": [
    "swing_map = {\n",
    "    'ball': 0,\n",
    "    'foul': 1,\n",
    "    'called_strike': 0,\n",
    "    'swinging_strike': 1,\n",
    "    'hit_into_play': 1,\n",
    "    'missed_bunt': 1,\n",
    "    'blocked_ball': 0,\n",
    "    'foul_tip': 1,\n",
    "    'swinging_strike_blocked': 1,\n",
    "    'foul_bunt': 1,\n",
    "    'intent_ball': 0,\n",
    "    'hit_by_pitch': 0,\n",
    "    'bunt_foul_tip': 1,\n",
    "    'pitchout': 0,\n",
    "    'swinging_pitchout': 1}\n",
    "\n",
    "nasty['swing'] = nasty.description.map(swing_map)"
   ]
  },
  {
   "cell_type": "code",
   "execution_count": null,
   "id": "7d8344a7",
   "metadata": {},
   "outputs": [],
   "source": [
    "# nasty['strikezone'] = ((nasty.plate_x <= 17/24) & (nasty.plate_x >= -17/24) &\n",
    "#                        (nasty.plate_z >= nasty.sz_bot) &\n",
    "#                        (nasty.plate_z <= nasty.sz_top))\\\n",
    "#     .fillna(False).astype(int)\n"
   ]
  },
  {
   "cell_type": "code",
   "execution_count": null,
   "id": "f46f20d2",
   "metadata": {},
   "outputs": [],
   "source": [
    "# create probabalistic strikezone\n",
    "sz_model_cols = ['effective_speed', 'pfx_x', 'pfx_z', 'vx0', 'vz0', 'ax',\n",
    "                 'az', 'release_pos_x', 'release_pos_z']\n",
    "\n",
    "nasty = nasty.dropna(subset=sz_model_cols).reset_index(drop=True)\n",
    "\n",
    "X_sz = np.array(nasty[sz_model_cols])\n",
    "nasty['strikezone_prob'] = sz_model.predict(X_sz)"
   ]
  },
  {
   "cell_type": "code",
   "execution_count": null,
   "metadata": {},
   "outputs": [],
   "source": [
    "# subset to only pitches outside strikezone\n",
    "# nasty = nasty.loc[nasty.strikezone == 0].reset_index(drop=True)"
   ]
  },
  {
   "cell_type": "code",
   "execution_count": null,
   "metadata": {},
   "outputs": [],
   "source": [
    "# define label and features\n",
    "label_col = 'swing'\n",
    "x_cols = ['release_spin_rate', 'effective_speed', 'pfx_x', 'strikezone_prob',\n",
    "          'pfx_z', 'vx0', 'vy0', 'vz0', 'ax', 'ay', 'az', 'spin_axis']\n",
    "\n",
    "nasty = nasty.dropna(subset=[label_col] + x_cols )\\\n",
    "    .reset_index(drop=True)"
   ]
  },
  {
   "cell_type": "code",
   "execution_count": null,
   "id": "vertical-broadcasting",
   "metadata": {},
   "outputs": [],
   "source": [
    "y = np.array(nasty[label_col])\n",
    "X = np.array(nasty[x_cols])"
   ]
  },
  {
   "cell_type": "code",
   "execution_count": null,
   "id": "intelligent-fiction",
   "metadata": {},
   "outputs": [],
   "source": [
    "X_train, X_test, y_train, y_test = train_test_split(X, y)\n",
    "\n",
    "print(f'X_train: {len(X_train)}, y_train: {len(y_train)}')\n",
    "print(f'X_test: {len(X_test)}, y_test: {len(y_test)}')"
   ]
  },
  {
   "cell_type": "markdown",
   "metadata": {},
   "source": [
    "### Parameter grid"
   ]
  },
  {
   "cell_type": "code",
   "execution_count": null,
   "id": "25f90c0c",
   "metadata": {},
   "outputs": [],
   "source": [
    "param_space = {'max_depth': hp.quniform(\"max_depth\", 3, 10, 1),\n",
    "               'gamma': hp.uniform('gamma', 0, 14),\n",
    "               'learning_rate': hp.uniform('learning_rate', 0, 1),\n",
    "               'reg_alpha': hp.uniform('reg_alpha', 0, 1),\n",
    "               'reg_lambda': hp.quniform('reg_lambda', 0, 10, 1),\n",
    "               'colsample_bytree': hp.uniform('colsample_bytree', 0.3, 1),\n",
    "               'min_child_weight': hp.quniform('min_child_weight', 0, 10, 1),\n",
    "               'n_estimators': hp.quniform('n_estimators', 100, 1000, 10)\n",
    "               }\n",
    "\n",
    "evaluation = [(X_train, y_train), (X_test, y_test)]\n",
    "\n",
    "\n",
    "def objective(space):\n",
    "    model = xgb.XGBRegressor(objective='binary:logistic',\n",
    "                             eval_metric='auc',\n",
    "                             n_estimators=int(space['n_estimators']),\n",
    "                             learning_rate=space['learning_rate'],\n",
    "                             max_depth=int(space['max_depth']),\n",
    "                             gamma=space['gamma'],\n",
    "                             reg_lambda=space['reg_lambda'],\n",
    "                             reg_alpha=space['reg_alpha'],\n",
    "                             min_child_weight=int(space['min_child_weight']),\n",
    "                             colsample_bytree=space['colsample_bytree']\n",
    "                             )\n",
    "\n",
    "    model.fit(X_train, y_train, eval_set=evaluation, eval_metric='auc',\n",
    "              early_stopping_rounds=10, verbose=False)\n",
    "\n",
    "    pred = model.predict(X_test, iteration_range=(0, model.best_iteration + 1))\n",
    "    score = roc_auc_score(y_test, pred)\n",
    "\n",
    "    return {'loss': -score, 'status': STATUS_OK}\n"
   ]
  },
  {
   "cell_type": "code",
   "execution_count": null,
   "id": "4732080f",
   "metadata": {},
   "outputs": [],
   "source": [
    "trials = Trials()\n",
    "best_hyperparams = fmin(fn=objective,\n",
    "                        space=param_space,\n",
    "                        algo=tpe.suggest,\n",
    "                        max_evals=100,\n",
    "                        trials=trials)\n",
    "\n",
    "# # 100%|██████████| 100/100 [55:16<00:00, 33.17s/trial, best loss: -0.7793544321617472]"
   ]
  },
  {
   "cell_type": "code",
   "execution_count": null,
   "metadata": {},
   "outputs": [],
   "source": [
    "model = xgb.XGBRegressor(objective='binary:logistic',\n",
    "                         use_label_encoder=False,\n",
    "                         eval_metric='auc',\n",
    "                         n_estimators=int(best_hyperparams['n_estimators']),\n",
    "                         learning_rate=best_hyperparams['learning_rate'],\n",
    "                         max_depth=int(best_hyperparams['max_depth']),\n",
    "                         gamma=best_hyperparams['gamma'],\n",
    "                         reg_lambda=best_hyperparams['reg_lambda'],\n",
    "                         reg_alpha=best_hyperparams['reg_alpha'],\n",
    "                         min_child_weight=int(best_hyperparams['min_child_weight']),\n",
    "                         colsample_bytree=best_hyperparams['colsample_bytree'])\n",
    "\n",
    "model.fit(X_train, y_train, eval_set=evaluation, eval_metric='auc',\n",
    "          early_stopping_rounds=10, verbose=False)\n"
   ]
  },
  {
   "cell_type": "code",
   "execution_count": null,
   "id": "8853000b",
   "metadata": {},
   "outputs": [],
   "source": [
    "xgb.plot_importance(model)"
   ]
  }
 ],
 "metadata": {
  "interpreter": {
   "hash": "98172a2f8fb1882ed8853131b5ccc9fd551a4200cef2cab8ff9263c241b56fed"
  },
  "kernelspec": {
   "display_name": "Python 3.9.7 64-bit ('riljam': conda)",
   "name": "python3"
  },
  "language_info": {
   "codemirror_mode": {
    "name": "ipython",
    "version": 3
   },
   "file_extension": ".py",
   "mimetype": "text/x-python",
   "name": "python",
   "nbconvert_exporter": "python",
   "pygments_lexer": "ipython3",
   "version": "3.9.7"
  }
 },
 "nbformat": 4,
 "nbformat_minor": 5
}
