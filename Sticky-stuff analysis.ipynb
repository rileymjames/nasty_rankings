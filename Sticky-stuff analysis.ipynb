{
 "cells": [
  {
   "cell_type": "code",
   "execution_count": 1,
   "metadata": {},
   "outputs": [],
   "source": [
    "import os\n",
    "import pandas as pd\n",
    "import src.nasty_score as nasty\n",
    "import plotly.graph_objects as go"
   ]
  },
  {
   "cell_type": "markdown",
   "metadata": {},
   "source": [
    "### Read data and load models"
   ]
  },
  {
   "cell_type": "code",
   "execution_count": 2,
   "metadata": {},
   "outputs": [],
   "source": [
    "data = pd.read_feather('data/nasty_data_2021.fea').fillna(-9999)\n",
    "pitchers = pd.read_feather('data/pitcher_ids.fea')"
   ]
  },
  {
   "cell_type": "code",
   "execution_count": 3,
   "metadata": {},
   "outputs": [],
   "source": [
    "sz_model = nasty.import_model('models/sz_model.pkl')\n",
    "swing_model = nasty.import_model('models/swing_model.pkl')\n",
    "swingmiss_model = nasty.import_model('models/swingmiss_model.pkl')"
   ]
  },
  {
   "cell_type": "markdown",
   "metadata": {},
   "source": [
    "### Assign nasty scores"
   ]
  },
  {
   "cell_type": "code",
   "execution_count": 4,
   "metadata": {},
   "outputs": [],
   "source": [
    "data = nasty.add_nasty_score(data, sz_model, swing_model, swingmiss_model)\n",
    "data = data.merge(pitchers, on='pitcher', how='left')"
   ]
  },
  {
   "cell_type": "code",
   "execution_count": 5,
   "metadata": {},
   "outputs": [],
   "source": [
    "sorted_data = data.sort_values(by='nasty_score', ascending=False)\\\n",
    "    .reset_index(drop=True)\n",
    "\n",
    "sorted_data['pre_sticky_flag'] = (\n",
    "    sorted_data['game_date'] < '2021-06-21').astype(int)"
   ]
  },
  {
   "cell_type": "code",
   "execution_count": 6,
   "metadata": {},
   "outputs": [
    {
     "name": "stdout",
     "output_type": "stream",
     "text": [
      "Of the top 50 pitches, 74.00% were pre-sticky-stuff ban\n",
      "Of the top 100 pitches, 63.00% were pre-sticky-stuff ban\n",
      "Of the top 150 pitches, 59.33% were pre-sticky-stuff ban\n",
      "Of the top 500 pitches, 56.60% were pre-sticky-stuff ban\n",
      "Of the top 1000 pitches, 55.70% were pre-sticky-stuff ban\n",
      "Of the top 2500 pitches, 50.60% were pre-sticky-stuff ban\n",
      "Of the top 5000 pitches, 48.64% were pre-sticky-stuff ban\n",
      "Of the top 10000 pitches, 46.46% were pre-sticky-stuff ban\n",
      "Of the top 25000 pitches, 45.88% were pre-sticky-stuff ban\n",
      "Of the top 50000 pitches, 45.18% were pre-sticky-stuff ban\n",
      "Of the top 100000 pitches, 44.95% were pre-sticky-stuff ban\n",
      "Of the top 250000 pitches, 44.22% were pre-sticky-stuff ban\n",
      "Of the top 500000 pitches, 43.34% were pre-sticky-stuff ban\n"
     ]
    }
   ],
   "source": [
    "for n_pitches in [50, 100, 150, 500, 1000, 2500, 5000, 10000, 25000, 50000, 100000, 250000, 500000]:\n",
    "    percent_sticky = (sorted_data.loc[0: n_pitches, 'pre_sticky_flag'].sum() /\n",
    "                      n_pitches)\n",
    "\n",
    "    print(f'Of the top {n_pitches} pitches, {percent_sticky * 100:.2f}%'\n",
    "          ' were pre-sticky-stuff ban')\n"
   ]
  },
  {
   "cell_type": "code",
   "execution_count": 7,
   "metadata": {},
   "outputs": [],
   "source": [
    "cole = data.loc[data.player_name == 'Cole, Gerrit'].groupby(['game_date'])\\\n",
    "    .agg({'nasty_score': 'mean'}).reset_index()\n",
    "\n",
    "degrom = data.loc[data.player_name == 'deGrom, Jacob'].groupby(['game_date'])\\\n",
    "    .agg({'nasty_score': 'mean'}).reset_index()\n",
    "\n",
    "gausman = data.loc[data.player_name == 'Gausman, Kevin']\\\n",
    "    .groupby(['game_date']).agg({'nasty_score': 'mean'}).reset_index()"
   ]
  },
  {
   "cell_type": "code",
   "execution_count": 8,
   "metadata": {},
   "outputs": [
    {
     "data": {
      "application/vnd.plotly.v1+json": {
       "config": {
        "plotlyServerURL": "https://plot.ly"
       },
       "data": [
        {
         "marker": {
          "color": "black"
         },
         "type": "scatter",
         "x": [
          "2021-04-01T00:00:00",
          "2021-04-02T00:00:00",
          "2021-04-03T00:00:00",
          "2021-04-04T00:00:00",
          "2021-04-05T00:00:00",
          "2021-04-06T00:00:00",
          "2021-04-07T00:00:00",
          "2021-04-08T00:00:00",
          "2021-04-09T00:00:00",
          "2021-04-10T00:00:00",
          "2021-04-11T00:00:00",
          "2021-04-12T00:00:00",
          "2021-04-13T00:00:00",
          "2021-04-14T00:00:00",
          "2021-04-15T00:00:00",
          "2021-04-16T00:00:00",
          "2021-04-17T00:00:00",
          "2021-04-18T00:00:00",
          "2021-04-19T00:00:00",
          "2021-04-20T00:00:00",
          "2021-04-21T00:00:00",
          "2021-04-22T00:00:00",
          "2021-04-23T00:00:00",
          "2021-04-24T00:00:00",
          "2021-04-25T00:00:00",
          "2021-04-26T00:00:00",
          "2021-04-27T00:00:00",
          "2021-04-28T00:00:00",
          "2021-04-29T00:00:00",
          "2021-04-30T00:00:00",
          "2021-05-01T00:00:00",
          "2021-05-02T00:00:00",
          "2021-05-03T00:00:00",
          "2021-05-04T00:00:00",
          "2021-05-05T00:00:00",
          "2021-05-06T00:00:00",
          "2021-05-07T00:00:00",
          "2021-05-08T00:00:00",
          "2021-05-09T00:00:00",
          "2021-05-10T00:00:00",
          "2021-05-11T00:00:00",
          "2021-05-12T00:00:00",
          "2021-05-13T00:00:00",
          "2021-05-14T00:00:00",
          "2021-05-15T00:00:00",
          "2021-05-16T00:00:00",
          "2021-05-17T00:00:00",
          "2021-05-18T00:00:00",
          "2021-05-19T00:00:00",
          "2021-05-20T00:00:00",
          "2021-05-21T00:00:00",
          "2021-05-22T00:00:00",
          "2021-05-23T00:00:00",
          "2021-05-24T00:00:00",
          "2021-05-25T00:00:00",
          "2021-05-26T00:00:00",
          "2021-05-27T00:00:00",
          "2021-05-28T00:00:00",
          "2021-05-29T00:00:00",
          "2021-05-30T00:00:00",
          "2021-05-31T00:00:00",
          "2021-06-01T00:00:00",
          "2021-06-02T00:00:00",
          "2021-06-03T00:00:00",
          "2021-06-04T00:00:00",
          "2021-06-05T00:00:00",
          "2021-06-06T00:00:00",
          "2021-06-07T00:00:00",
          "2021-06-08T00:00:00",
          "2021-06-09T00:00:00",
          "2021-06-10T00:00:00",
          "2021-06-11T00:00:00",
          "2021-06-12T00:00:00",
          "2021-06-13T00:00:00",
          "2021-06-14T00:00:00",
          "2021-06-15T00:00:00",
          "2021-06-16T00:00:00",
          "2021-06-17T00:00:00",
          "2021-06-18T00:00:00",
          "2021-06-19T00:00:00",
          "2021-06-20T00:00:00",
          "2021-06-21T00:00:00",
          "2021-06-22T00:00:00",
          "2021-06-23T00:00:00",
          "2021-06-24T00:00:00",
          "2021-06-25T00:00:00",
          "2021-06-26T00:00:00",
          "2021-06-27T00:00:00",
          "2021-06-28T00:00:00",
          "2021-06-29T00:00:00",
          "2021-06-30T00:00:00",
          "2021-07-01T00:00:00",
          "2021-07-02T00:00:00",
          "2021-07-03T00:00:00",
          "2021-07-04T00:00:00",
          "2021-07-05T00:00:00",
          "2021-07-06T00:00:00",
          "2021-07-07T00:00:00",
          "2021-07-08T00:00:00",
          "2021-07-09T00:00:00",
          "2021-07-10T00:00:00",
          "2021-07-11T00:00:00",
          "2021-07-16T00:00:00",
          "2021-07-17T00:00:00",
          "2021-07-18T00:00:00",
          "2021-07-19T00:00:00",
          "2021-07-20T00:00:00",
          "2021-07-21T00:00:00",
          "2021-07-22T00:00:00",
          "2021-07-23T00:00:00",
          "2021-07-24T00:00:00",
          "2021-07-25T00:00:00",
          "2021-07-26T00:00:00",
          "2021-07-27T00:00:00",
          "2021-07-28T00:00:00",
          "2021-07-29T00:00:00",
          "2021-07-30T00:00:00",
          "2021-07-31T00:00:00",
          "2021-08-01T00:00:00",
          "2021-08-02T00:00:00",
          "2021-08-03T00:00:00",
          "2021-08-04T00:00:00",
          "2021-08-05T00:00:00",
          "2021-08-06T00:00:00",
          "2021-08-07T00:00:00",
          "2021-08-08T00:00:00",
          "2021-08-09T00:00:00",
          "2021-08-10T00:00:00",
          "2021-08-11T00:00:00",
          "2021-08-12T00:00:00",
          "2021-08-13T00:00:00",
          "2021-08-14T00:00:00",
          "2021-08-15T00:00:00",
          "2021-08-16T00:00:00",
          "2021-08-17T00:00:00",
          "2021-08-18T00:00:00",
          "2021-08-19T00:00:00",
          "2021-08-20T00:00:00",
          "2021-08-21T00:00:00",
          "2021-08-22T00:00:00",
          "2021-08-23T00:00:00",
          "2021-08-24T00:00:00",
          "2021-08-25T00:00:00",
          "2021-08-26T00:00:00",
          "2021-08-27T00:00:00",
          "2021-08-28T00:00:00",
          "2021-08-29T00:00:00",
          "2021-08-30T00:00:00",
          "2021-08-31T00:00:00",
          "2021-09-01T00:00:00",
          "2021-09-02T00:00:00",
          "2021-09-03T00:00:00",
          "2021-09-04T00:00:00",
          "2021-09-05T00:00:00",
          "2021-09-06T00:00:00",
          "2021-09-07T00:00:00",
          "2021-09-08T00:00:00",
          "2021-09-09T00:00:00",
          "2021-09-10T00:00:00",
          "2021-09-11T00:00:00",
          "2021-09-12T00:00:00",
          "2021-09-13T00:00:00",
          "2021-09-14T00:00:00",
          "2021-09-15T00:00:00",
          "2021-09-16T00:00:00",
          "2021-09-17T00:00:00",
          "2021-09-18T00:00:00",
          "2021-09-19T00:00:00",
          "2021-09-20T00:00:00",
          "2021-09-21T00:00:00",
          "2021-09-22T00:00:00",
          "2021-09-23T00:00:00",
          "2021-09-24T00:00:00",
          "2021-09-25T00:00:00",
          "2021-09-26T00:00:00",
          "2021-09-27T00:00:00",
          "2021-09-28T00:00:00",
          "2021-09-29T00:00:00",
          "2021-09-30T00:00:00",
          "2021-10-01T00:00:00",
          "2021-10-02T00:00:00",
          "2021-10-03T00:00:00",
          "2021-10-05T00:00:00",
          "2021-10-06T00:00:00",
          "2021-10-07T00:00:00",
          "2021-10-08T00:00:00",
          "2021-10-09T00:00:00",
          "2021-10-10T00:00:00",
          "2021-10-11T00:00:00",
          "2021-10-12T00:00:00",
          "2021-10-14T00:00:00",
          "2021-10-15T00:00:00",
          "2021-10-16T00:00:00",
          "2021-10-17T00:00:00",
          "2021-10-18T00:00:00",
          "2021-10-19T00:00:00",
          "2021-10-20T00:00:00",
          "2021-10-21T00:00:00",
          "2021-10-22T00:00:00",
          "2021-10-23T00:00:00",
          "2021-10-26T00:00:00",
          "2021-10-27T00:00:00",
          "2021-10-29T00:00:00",
          "2021-10-30T00:00:00",
          "2021-10-31T00:00:00",
          "2021-11-02T00:00:00"
         ],
         "y": [
          null,
          null,
          null,
          null,
          null,
          null,
          null,
          null,
          null,
          19.913212966918945,
          19.821560096740722,
          19.83582458496094,
          19.84965362548828,
          19.904676628112792,
          19.867053413391112,
          19.745654487609862,
          19.687461853027344,
          19.739946174621583,
          19.803137969970702,
          19.778911781311034,
          19.756159019470214,
          19.737063598632812,
          19.857419586181642,
          19.869498634338377,
          19.941167449951173,
          20.03876953125,
          19.987483406066893,
          20.01018238067627,
          19.920179557800292,
          20.01284008026123,
          20.127896118164063,
          20.095633125305177,
          20.09047622680664,
          20.0035888671875,
          19.95967617034912,
          19.95565185546875,
          19.972458267211913,
          19.92440013885498,
          19.903893852233885,
          19.87584705352783,
          19.85780277252197,
          19.884863471984865,
          19.845390701293944,
          19.948283195495605,
          19.93355598449707,
          19.977083206176758,
          20.02055835723877,
          20.033912467956544,
          20.059875297546387,
          20.049272727966308,
          19.9544958114624,
          19.947167778015135,
          19.828910064697265,
          19.75668716430664,
          19.798947143554688,
          19.749727058410645,
          19.66673755645752,
          19.576972198486327,
          19.590692138671876,
          19.58253059387207,
          19.6683988571167,
          19.682470512390136,
          19.739662170410156,
          19.665614891052247,
          19.648646736145018,
          19.622165870666503,
          19.615565299987793,
          19.709236717224123,
          19.64700412750244,
          19.570387840270996,
          19.46993408203125,
          19.477398681640626,
          19.40591220855713,
          19.381246757507324,
          19.349600791931152,
          19.308341789245606,
          19.26252098083496,
          19.185666275024413,
          19.11293601989746,
          19.062943077087404,
          19.029283332824708,
          18.965761947631837,
          19.013153648376466,
          19.131459617614745,
          19.101736640930177,
          19.03659858703613,
          19.080796241760254,
          19.000237274169923,
          19.002230072021483,
          19.122426223754882,
          19.035092926025392,
          18.971671485900877,
          18.8851806640625,
          18.776073265075684,
          18.82067527770996,
          18.9426326751709,
          18.87878761291504,
          18.901434326171874,
          18.968582916259766,
          18.922766876220702,
          19.059699249267577,
          19.087097358703613,
          19.126336288452148,
          19.162994384765625,
          19.10908260345459,
          19.041857719421387,
          19.125721740722657,
          19.174062156677245,
          19.167052841186525,
          19.196816444396973,
          19.157754707336426,
          19.132951545715333,
          19.188533592224122,
          19.245022201538085,
          19.257052612304687,
          19.292764282226564,
          19.25962085723877,
          19.296159744262695,
          19.25983581542969,
          19.10328903198242,
          19.178934478759764,
          19.26515922546387,
          19.17347984313965,
          19.13523349761963,
          19.196967697143556,
          19.196120834350587,
          19.352825546264647,
          19.277392578125,
          19.254351806640624,
          19.297862243652343,
          19.269807815551758,
          19.19315872192383,
          19.245481109619142,
          19.2742769241333,
          19.261312103271486,
          19.19328193664551,
          18.99703941345215,
          19.011418914794923,
          19.07855796813965,
          19.092549896240236,
          19.08499946594238,
          19.15501136779785,
          19.272653770446777,
          19.25031394958496,
          19.235098838806152,
          19.206956481933595,
          19.230312728881835,
          19.311091232299805,
          19.3116247177124,
          19.45403995513916,
          19.387567901611327,
          19.349968910217285,
          19.22299728393555,
          19.203252601623536,
          19.108774948120118,
          19.20162181854248,
          19.246303939819335,
          19.22496681213379,
          19.313163566589356,
          19.25637035369873,
          19.247817993164062,
          19.325414848327636,
          19.3689697265625,
          19.39473876953125,
          19.55359172821045,
          19.547500991821288,
          19.5110803604126,
          19.53280143737793,
          19.442694664001465,
          19.48069648742676,
          19.56201286315918,
          19.47114505767822,
          19.48123893737793,
          19.513835144042968,
          19.457698631286622,
          19.444449043273927,
          19.526642036437988,
          19.461895751953126,
          19.516769027709962,
          19.495293045043944,
          19.569888496398924,
          19.611325836181642,
          19.892909431457518,
          20.073319244384766,
          20.183875465393065,
          20.389126205444335,
          20.548326110839845,
          21.000658416748045,
          20.953859901428224,
          21.154973220825195,
          21.392409896850587,
          21.45000762939453,
          21.417939567565917,
          21.31564407348633,
          21.005735015869142,
          21.00689525604248,
          20.946902656555174,
          20.647251701354982,
          20.72772216796875,
          20.665481948852538,
          20.619487762451172,
          20.73156852722168,
          20.823155021667482,
          21.043002128601074,
          21.448722267150877,
          21.549485206604004
         ]
        }
       ],
       "layout": {
        "annotations": [
         {
          "showarrow": false,
          "text": "Sticky-stuff ban",
          "x": "2021-06-11",
          "y": 20
         },
         {
          "showarrow": false,
          "text": "Playoffs",
          "x": "2021-10-19",
          "y": 20
         }
        ],
        "height": 600,
        "plot_bgcolor": "rgba(0,0,0,0)",
        "shapes": [
         {
          "fillcolor": "Red",
          "layer": "below",
          "line": {
           "width": 0
          },
          "opacity": 0.35,
          "type": "rect",
          "x0": "2021-06-02",
          "x1": "2021-06-21",
          "y0": 18.5,
          "y1": 19.739662170410156
         },
         {
          "fillcolor": "Gold",
          "layer": "below",
          "line": {
           "width": 0
          },
          "opacity": 0.5,
          "type": "rect",
          "x0": "2021-10-05",
          "x1": "2021-11-02",
          "y0": 18.5,
          "y1": 21.549485206604004
         }
        ],
        "template": {
         "data": {
          "bar": [
           {
            "error_x": {
             "color": "#2a3f5f"
            },
            "error_y": {
             "color": "#2a3f5f"
            },
            "marker": {
             "line": {
              "color": "#E5ECF6",
              "width": 0.5
             }
            },
            "type": "bar"
           }
          ],
          "barpolar": [
           {
            "marker": {
             "line": {
              "color": "#E5ECF6",
              "width": 0.5
             }
            },
            "type": "barpolar"
           }
          ],
          "carpet": [
           {
            "aaxis": {
             "endlinecolor": "#2a3f5f",
             "gridcolor": "white",
             "linecolor": "white",
             "minorgridcolor": "white",
             "startlinecolor": "#2a3f5f"
            },
            "baxis": {
             "endlinecolor": "#2a3f5f",
             "gridcolor": "white",
             "linecolor": "white",
             "minorgridcolor": "white",
             "startlinecolor": "#2a3f5f"
            },
            "type": "carpet"
           }
          ],
          "choropleth": [
           {
            "colorbar": {
             "outlinewidth": 0,
             "ticks": ""
            },
            "type": "choropleth"
           }
          ],
          "contour": [
           {
            "colorbar": {
             "outlinewidth": 0,
             "ticks": ""
            },
            "colorscale": [
             [
              0,
              "#0d0887"
             ],
             [
              0.1111111111111111,
              "#46039f"
             ],
             [
              0.2222222222222222,
              "#7201a8"
             ],
             [
              0.3333333333333333,
              "#9c179e"
             ],
             [
              0.4444444444444444,
              "#bd3786"
             ],
             [
              0.5555555555555556,
              "#d8576b"
             ],
             [
              0.6666666666666666,
              "#ed7953"
             ],
             [
              0.7777777777777778,
              "#fb9f3a"
             ],
             [
              0.8888888888888888,
              "#fdca26"
             ],
             [
              1,
              "#f0f921"
             ]
            ],
            "type": "contour"
           }
          ],
          "contourcarpet": [
           {
            "colorbar": {
             "outlinewidth": 0,
             "ticks": ""
            },
            "type": "contourcarpet"
           }
          ],
          "heatmap": [
           {
            "colorbar": {
             "outlinewidth": 0,
             "ticks": ""
            },
            "colorscale": [
             [
              0,
              "#0d0887"
             ],
             [
              0.1111111111111111,
              "#46039f"
             ],
             [
              0.2222222222222222,
              "#7201a8"
             ],
             [
              0.3333333333333333,
              "#9c179e"
             ],
             [
              0.4444444444444444,
              "#bd3786"
             ],
             [
              0.5555555555555556,
              "#d8576b"
             ],
             [
              0.6666666666666666,
              "#ed7953"
             ],
             [
              0.7777777777777778,
              "#fb9f3a"
             ],
             [
              0.8888888888888888,
              "#fdca26"
             ],
             [
              1,
              "#f0f921"
             ]
            ],
            "type": "heatmap"
           }
          ],
          "heatmapgl": [
           {
            "colorbar": {
             "outlinewidth": 0,
             "ticks": ""
            },
            "colorscale": [
             [
              0,
              "#0d0887"
             ],
             [
              0.1111111111111111,
              "#46039f"
             ],
             [
              0.2222222222222222,
              "#7201a8"
             ],
             [
              0.3333333333333333,
              "#9c179e"
             ],
             [
              0.4444444444444444,
              "#bd3786"
             ],
             [
              0.5555555555555556,
              "#d8576b"
             ],
             [
              0.6666666666666666,
              "#ed7953"
             ],
             [
              0.7777777777777778,
              "#fb9f3a"
             ],
             [
              0.8888888888888888,
              "#fdca26"
             ],
             [
              1,
              "#f0f921"
             ]
            ],
            "type": "heatmapgl"
           }
          ],
          "histogram": [
           {
            "marker": {
             "colorbar": {
              "outlinewidth": 0,
              "ticks": ""
             }
            },
            "type": "histogram"
           }
          ],
          "histogram2d": [
           {
            "colorbar": {
             "outlinewidth": 0,
             "ticks": ""
            },
            "colorscale": [
             [
              0,
              "#0d0887"
             ],
             [
              0.1111111111111111,
              "#46039f"
             ],
             [
              0.2222222222222222,
              "#7201a8"
             ],
             [
              0.3333333333333333,
              "#9c179e"
             ],
             [
              0.4444444444444444,
              "#bd3786"
             ],
             [
              0.5555555555555556,
              "#d8576b"
             ],
             [
              0.6666666666666666,
              "#ed7953"
             ],
             [
              0.7777777777777778,
              "#fb9f3a"
             ],
             [
              0.8888888888888888,
              "#fdca26"
             ],
             [
              1,
              "#f0f921"
             ]
            ],
            "type": "histogram2d"
           }
          ],
          "histogram2dcontour": [
           {
            "colorbar": {
             "outlinewidth": 0,
             "ticks": ""
            },
            "colorscale": [
             [
              0,
              "#0d0887"
             ],
             [
              0.1111111111111111,
              "#46039f"
             ],
             [
              0.2222222222222222,
              "#7201a8"
             ],
             [
              0.3333333333333333,
              "#9c179e"
             ],
             [
              0.4444444444444444,
              "#bd3786"
             ],
             [
              0.5555555555555556,
              "#d8576b"
             ],
             [
              0.6666666666666666,
              "#ed7953"
             ],
             [
              0.7777777777777778,
              "#fb9f3a"
             ],
             [
              0.8888888888888888,
              "#fdca26"
             ],
             [
              1,
              "#f0f921"
             ]
            ],
            "type": "histogram2dcontour"
           }
          ],
          "mesh3d": [
           {
            "colorbar": {
             "outlinewidth": 0,
             "ticks": ""
            },
            "type": "mesh3d"
           }
          ],
          "parcoords": [
           {
            "line": {
             "colorbar": {
              "outlinewidth": 0,
              "ticks": ""
             }
            },
            "type": "parcoords"
           }
          ],
          "pie": [
           {
            "automargin": true,
            "type": "pie"
           }
          ],
          "scatter": [
           {
            "marker": {
             "colorbar": {
              "outlinewidth": 0,
              "ticks": ""
             }
            },
            "type": "scatter"
           }
          ],
          "scatter3d": [
           {
            "line": {
             "colorbar": {
              "outlinewidth": 0,
              "ticks": ""
             }
            },
            "marker": {
             "colorbar": {
              "outlinewidth": 0,
              "ticks": ""
             }
            },
            "type": "scatter3d"
           }
          ],
          "scattercarpet": [
           {
            "marker": {
             "colorbar": {
              "outlinewidth": 0,
              "ticks": ""
             }
            },
            "type": "scattercarpet"
           }
          ],
          "scattergeo": [
           {
            "marker": {
             "colorbar": {
              "outlinewidth": 0,
              "ticks": ""
             }
            },
            "type": "scattergeo"
           }
          ],
          "scattergl": [
           {
            "marker": {
             "colorbar": {
              "outlinewidth": 0,
              "ticks": ""
             }
            },
            "type": "scattergl"
           }
          ],
          "scattermapbox": [
           {
            "marker": {
             "colorbar": {
              "outlinewidth": 0,
              "ticks": ""
             }
            },
            "type": "scattermapbox"
           }
          ],
          "scatterpolar": [
           {
            "marker": {
             "colorbar": {
              "outlinewidth": 0,
              "ticks": ""
             }
            },
            "type": "scatterpolar"
           }
          ],
          "scatterpolargl": [
           {
            "marker": {
             "colorbar": {
              "outlinewidth": 0,
              "ticks": ""
             }
            },
            "type": "scatterpolargl"
           }
          ],
          "scatterternary": [
           {
            "marker": {
             "colorbar": {
              "outlinewidth": 0,
              "ticks": ""
             }
            },
            "type": "scatterternary"
           }
          ],
          "surface": [
           {
            "colorbar": {
             "outlinewidth": 0,
             "ticks": ""
            },
            "colorscale": [
             [
              0,
              "#0d0887"
             ],
             [
              0.1111111111111111,
              "#46039f"
             ],
             [
              0.2222222222222222,
              "#7201a8"
             ],
             [
              0.3333333333333333,
              "#9c179e"
             ],
             [
              0.4444444444444444,
              "#bd3786"
             ],
             [
              0.5555555555555556,
              "#d8576b"
             ],
             [
              0.6666666666666666,
              "#ed7953"
             ],
             [
              0.7777777777777778,
              "#fb9f3a"
             ],
             [
              0.8888888888888888,
              "#fdca26"
             ],
             [
              1,
              "#f0f921"
             ]
            ],
            "type": "surface"
           }
          ],
          "table": [
           {
            "cells": {
             "fill": {
              "color": "#EBF0F8"
             },
             "line": {
              "color": "white"
             }
            },
            "header": {
             "fill": {
              "color": "#C8D4E3"
             },
             "line": {
              "color": "white"
             }
            },
            "type": "table"
           }
          ]
         },
         "layout": {
          "annotationdefaults": {
           "arrowcolor": "#2a3f5f",
           "arrowhead": 0,
           "arrowwidth": 1
          },
          "autotypenumbers": "strict",
          "coloraxis": {
           "colorbar": {
            "outlinewidth": 0,
            "ticks": ""
           }
          },
          "colorscale": {
           "diverging": [
            [
             0,
             "#8e0152"
            ],
            [
             0.1,
             "#c51b7d"
            ],
            [
             0.2,
             "#de77ae"
            ],
            [
             0.3,
             "#f1b6da"
            ],
            [
             0.4,
             "#fde0ef"
            ],
            [
             0.5,
             "#f7f7f7"
            ],
            [
             0.6,
             "#e6f5d0"
            ],
            [
             0.7,
             "#b8e186"
            ],
            [
             0.8,
             "#7fbc41"
            ],
            [
             0.9,
             "#4d9221"
            ],
            [
             1,
             "#276419"
            ]
           ],
           "sequential": [
            [
             0,
             "#0d0887"
            ],
            [
             0.1111111111111111,
             "#46039f"
            ],
            [
             0.2222222222222222,
             "#7201a8"
            ],
            [
             0.3333333333333333,
             "#9c179e"
            ],
            [
             0.4444444444444444,
             "#bd3786"
            ],
            [
             0.5555555555555556,
             "#d8576b"
            ],
            [
             0.6666666666666666,
             "#ed7953"
            ],
            [
             0.7777777777777778,
             "#fb9f3a"
            ],
            [
             0.8888888888888888,
             "#fdca26"
            ],
            [
             1,
             "#f0f921"
            ]
           ],
           "sequentialminus": [
            [
             0,
             "#0d0887"
            ],
            [
             0.1111111111111111,
             "#46039f"
            ],
            [
             0.2222222222222222,
             "#7201a8"
            ],
            [
             0.3333333333333333,
             "#9c179e"
            ],
            [
             0.4444444444444444,
             "#bd3786"
            ],
            [
             0.5555555555555556,
             "#d8576b"
            ],
            [
             0.6666666666666666,
             "#ed7953"
            ],
            [
             0.7777777777777778,
             "#fb9f3a"
            ],
            [
             0.8888888888888888,
             "#fdca26"
            ],
            [
             1,
             "#f0f921"
            ]
           ]
          },
          "colorway": [
           "#636efa",
           "#EF553B",
           "#00cc96",
           "#ab63fa",
           "#FFA15A",
           "#19d3f3",
           "#FF6692",
           "#B6E880",
           "#FF97FF",
           "#FECB52"
          ],
          "font": {
           "color": "#2a3f5f"
          },
          "geo": {
           "bgcolor": "white",
           "lakecolor": "white",
           "landcolor": "#E5ECF6",
           "showlakes": true,
           "showland": true,
           "subunitcolor": "white"
          },
          "hoverlabel": {
           "align": "left"
          },
          "hovermode": "closest",
          "mapbox": {
           "style": "light"
          },
          "paper_bgcolor": "white",
          "plot_bgcolor": "#E5ECF6",
          "polar": {
           "angularaxis": {
            "gridcolor": "white",
            "linecolor": "white",
            "ticks": ""
           },
           "bgcolor": "#E5ECF6",
           "radialaxis": {
            "gridcolor": "white",
            "linecolor": "white",
            "ticks": ""
           }
          },
          "scene": {
           "xaxis": {
            "backgroundcolor": "#E5ECF6",
            "gridcolor": "white",
            "gridwidth": 2,
            "linecolor": "white",
            "showbackground": true,
            "ticks": "",
            "zerolinecolor": "white"
           },
           "yaxis": {
            "backgroundcolor": "#E5ECF6",
            "gridcolor": "white",
            "gridwidth": 2,
            "linecolor": "white",
            "showbackground": true,
            "ticks": "",
            "zerolinecolor": "white"
           },
           "zaxis": {
            "backgroundcolor": "#E5ECF6",
            "gridcolor": "white",
            "gridwidth": 2,
            "linecolor": "white",
            "showbackground": true,
            "ticks": "",
            "zerolinecolor": "white"
           }
          },
          "shapedefaults": {
           "line": {
            "color": "#2a3f5f"
           }
          },
          "ternary": {
           "aaxis": {
            "gridcolor": "white",
            "linecolor": "white",
            "ticks": ""
           },
           "baxis": {
            "gridcolor": "white",
            "linecolor": "white",
            "ticks": ""
           },
           "bgcolor": "#E5ECF6",
           "caxis": {
            "gridcolor": "white",
            "linecolor": "white",
            "ticks": ""
           }
          },
          "title": {
           "x": 0.05
          },
          "xaxis": {
           "automargin": true,
           "gridcolor": "white",
           "linecolor": "white",
           "ticks": "",
           "title": {
            "standoff": 15
           },
           "zerolinecolor": "white",
           "zerolinewidth": 2
          },
          "yaxis": {
           "automargin": true,
           "gridcolor": "white",
           "linecolor": "white",
           "ticks": "",
           "title": {
            "standoff": 15
           },
           "zerolinecolor": "white",
           "zerolinewidth": 2
          }
         }
        },
        "title": {
         "font": {
          "size": 25
         },
         "text": "Nasty score rolling average over time"
        },
        "xaxis": {
         "showgrid": false
        },
        "yaxis": {
         "showgrid": false,
         "title": {
          "font": {
           "size": 16
          },
          "text": "Nasty Score"
         }
        }
       }
      }
     },
     "metadata": {},
     "output_type": "display_data"
    }
   ],
   "source": [
    "plot_data = data.groupby(['game_date']).agg({'nasty_score': 'mean'})\\\n",
    "    .reset_index()\n",
    "\n",
    "plot_data['nasty_score_smooth'] = plot_data['nasty_score'].rolling(\n",
    "    window=10).mean()\n",
    "\n",
    "fig = go.Figure()\n",
    "\n",
    "fig.add_trace(go.Scatter(x=plot_data.game_date,\n",
    "                         y=plot_data.nasty_score_smooth,\n",
    "                         marker=dict(color='black')))\n",
    "\n",
    "sticky_max = plot_data.loc[\n",
    "    (plot_data['game_date'] <= '2021-06-21') &\n",
    "    (plot_data['game_date'] >= '2021-06-02'), 'nasty_score_smooth'].max()\n",
    "\n",
    "playoff_max = plot_data.loc[\n",
    "    (plot_data['game_date'] <= '2021-11-02') &\n",
    "    (plot_data['game_date'] >= '2021-10-05'), 'nasty_score_smooth'].max()\n",
    "\n",
    "fig.add_shape(\n",
    "    type=\"rect\",\n",
    "    x0=\"2021-06-02\",\n",
    "    y0=18.5,\n",
    "    x1=\"2021-06-21\",\n",
    "    y1=sticky_max,\n",
    "    fillcolor=\"Red\",\n",
    "    line_width=0,\n",
    "    layer=\"below\",\n",
    "    opacity=0.35\n",
    ")\n",
    "\n",
    "fig.add_shape(\n",
    "    type=\"rect\",\n",
    "    x0='2021-10-05',\n",
    "    y0=18.5,\n",
    "    x1='2021-11-02',\n",
    "    y1=playoff_max,\n",
    "    fillcolor=\"Gold\",\n",
    "    line_width=0,\n",
    "    layer=\"below\",\n",
    "    opacity=0.5\n",
    ")\n",
    "\n",
    "fig.add_annotation(\n",
    "    x='2021-06-11', y=20,\n",
    "    text='Sticky-stuff ban',\n",
    "    showarrow=False)\n",
    "\n",
    "fig.add_annotation(\n",
    "    x='2021-10-19', y=20,\n",
    "    text='Playoffs',\n",
    "    showarrow=False)\n",
    "\n",
    "fig.update_layout(\n",
    "    title='Nasty score rolling average over time',\n",
    "    title_font_size=25,\n",
    "    plot_bgcolor='rgba(0,0,0,0)',\n",
    "    height=600\n",
    ")\n",
    "\n",
    "fig.update_xaxes(showgrid=False)\n",
    "fig.update_yaxes(showgrid=False, title='Nasty Score', title_font_size=16)\n",
    "\n",
    "if not os.path.exists('images'):\n",
    "    os.mkdir('images')\n",
    "    \n",
    "fig.write_image('images/nasty_plot.jpeg', width=1500, height=600)\n",
    "\n",
    "fig.show()\n"
   ]
  }
 ],
 "metadata": {
  "interpreter": {
   "hash": "98172a2f8fb1882ed8853131b5ccc9fd551a4200cef2cab8ff9263c241b56fed"
  },
  "kernelspec": {
   "display_name": "Python 3.9.7 64-bit ('riljam': conda)",
   "language": "python",
   "name": "python3"
  },
  "language_info": {
   "codemirror_mode": {
    "name": "ipython",
    "version": 3
   },
   "file_extension": ".py",
   "mimetype": "text/x-python",
   "name": "python",
   "nbconvert_exporter": "python",
   "pygments_lexer": "ipython3",
   "version": "3.9.7"
  },
  "orig_nbformat": 4
 },
 "nbformat": 4,
 "nbformat_minor": 2
}
