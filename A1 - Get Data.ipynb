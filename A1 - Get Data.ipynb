{
 "cells": [
  {
   "cell_type": "code",
   "execution_count": 3,
   "id": "adverse-stomach",
   "metadata": {},
   "outputs": [],
   "source": [
    "import pandas as pd\n",
    "from pybaseball import statcast_pitcher, pitching_stats, statcast"
   ]
  },
  {
   "cell_type": "code",
   "execution_count": 4,
   "id": "closing-librarian",
   "metadata": {},
   "outputs": [
    {
     "name": "stdout",
     "output_type": "stream",
     "text": [
      "This is a large query, it may take a moment to complete\n"
     ]
    },
    {
     "name": "stderr",
     "output_type": "stream",
     "text": [
      "C:\\Users\\Riley\\miniconda3\\envs\\myenv\\lib\\site-packages\\pybaseball\\statcast.py:50: UserWarning: \n",
      "That's a nice request you got there. It'd be a shame if something were to happen to it.\n",
      "We strongly recommend that you enable caching before running this. It's as simple as `pybaseball.cache.enable()`.\n",
      "Since the Statcast requests can take a *really* long time to run, if something were to happen, like: a disconnect;\n",
      "gremlins; computer repair by associates of Rudy Giuliani; electromagnetic interference from metal trash cans; etc.;\n",
      "you could lose a lot of progress. Enabling caching will allow you to immediately recover all the successful\n",
      "subqueries if that happens.\n",
      "  warnings.warn(_OVERSIZE_WARNING)\n",
      "  0%|                                                                                         | 0/2250 [00:00<?, ?it/s]"
     ]
    },
    {
     "name": "stdout",
     "output_type": "stream",
     "text": [
      "Skipping offseason dates\n",
      "Skipping offseason dates\n",
      "Skipping offseason dates\n",
      "Skipping offseason dates\n",
      "Skipping offseason dates\n",
      "Skipping offseason dates\n",
      "Skipping offseason dates\n",
      "Skipping offseason dates\n",
      "Skipping offseason dates\n",
      "Skipping offseason dates\n",
      "Skipping offseason dates\n",
      "Skipping offseason dates\n"
     ]
    },
    {
     "name": "stderr",
     "output_type": "stream",
     "text": [
      "100%|██████████████████████████████████████████████████████████████████████████████| 2250/2250 [16:56<00:00,  2.21it/s]\n"
     ]
    }
   ],
   "source": [
    "yday = statcast('2010-01-01', '2020-12-31')"
   ]
  },
  {
   "cell_type": "code",
   "execution_count": 10,
   "id": "dutch-syndrome",
   "metadata": {},
   "outputs": [],
   "source": [
    "nasty = yday[['pitch_type', 'game_date', 'batter', 'pitcher', 'release_speed', 'release_pos_x', 'release_pos_z',\n",
    "              'events', 'description', 'spin_dir', 'zone',\n",
    "              'game_type', 'stand', 'p_throws', 'vx0', 'vy0', 'vz0', 'ax', 'ay', 'az',\n",
    "              'sz_top', 'sz_bot', 'hit_distance_sc', 'launch_speed', 'launch_angle', \n",
    "              'effective_speed', 'release_spin_rate', 'release_extension', 'release_pos_y',\n",
    "              'estimated_ba_using_speedangle', 'estimated_woba_using_speedangle', 'launch_speed_angle']].copy()"
   ]
  },
  {
   "cell_type": "code",
   "execution_count": 11,
   "id": "advance-nature",
   "metadata": {},
   "outputs": [],
   "source": [
    "nasty.reset_index(drop=True, inplace=True)"
   ]
  },
  {
   "cell_type": "code",
   "execution_count": 12,
   "id": "divine-cheat",
   "metadata": {},
   "outputs": [],
   "source": [
    "nasty.dropna(subset=['pitch_type', 'description', 'release_speed', 'release_pos_x', 'release_pos_z', 'vx0', 'vy0', 'vz0',\n",
    "                     'ax', 'ay', 'az', 'stand', 'p_throws', 'release_extension', 'release_pos_y', 'release_spin_rate',\n",
    "                     'effective_speed'], inplace=True)"
   ]
  },
  {
   "cell_type": "code",
   "execution_count": 13,
   "id": "theoretical-window",
   "metadata": {},
   "outputs": [
    {
     "data": {
      "text/plain": [
       "array(['called_strike', 'swinging_strike', 'ball', 'foul',\n",
       "       'hit_into_play', 'blocked_ball', 'swinging_strike_blocked',\n",
       "       'foul_bunt', 'foul_tip', 'hit_by_pitch', 'missed_bunt', 'pitchout',\n",
       "       'bunt_foul_tip', 'foul_pitchout', 'swinging_pitchout',\n",
       "       'intent_ball'], dtype=object)"
      ]
     },
     "execution_count": 13,
     "metadata": {},
     "output_type": "execute_result"
    }
   ],
   "source": [
    "nasty.description.unique()"
   ]
  },
  {
   "cell_type": "code",
   "execution_count": 14,
   "id": "fleet-blank",
   "metadata": {},
   "outputs": [],
   "source": [
    "nasty.to_csv('data/nasty_data.csv', index=False)"
   ]
  }
 ],
 "metadata": {
  "kernelspec": {
   "display_name": "Python 3",
   "language": "python",
   "name": "python3"
  },
  "language_info": {
   "codemirror_mode": {
    "name": "ipython",
    "version": 3
   },
   "file_extension": ".py",
   "mimetype": "text/x-python",
   "name": "python",
   "nbconvert_exporter": "python",
   "pygments_lexer": "ipython3",
   "version": "3.8.8"
  }
 },
 "nbformat": 4,
 "nbformat_minor": 5
}
